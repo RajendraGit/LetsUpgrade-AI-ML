{
 "cells": [
  {
   "cell_type": "markdown",
   "metadata": {},
   "source": [
    "## Question 1 :\n",
    "### Assuming that we have some email addresses in the \"username@companyname.com\" format, please\n",
    "### write a program to print the company name of a given email address. Both user names and company names are composed of letters only.\n",
    "### Input Format:\n",
    "### The first line of the input contains an email address.\n",
    "### Output Format:\n",
    "### Print the company name in a single line.\n",
    "### Example;\n",
    "### Input:\n",
    "### john@google.com\n",
    "### Output:\n",
    "### google.\n",
    "### Solution:"
   ]
  },
  {
   "cell_type": "code",
   "execution_count": 10,
   "metadata": {},
   "outputs": [
    {
     "name": "stdout",
     "output_type": "stream",
     "text": [
      "Enter your emailusername@companyname.com\n",
      "companyname\n"
     ]
    }
   ],
   "source": [
    "mail = input(\"Enter your email\")\n",
    "print(mail[mail.find('@')+1:mail.find('.',mail.find('@')+1)])"
   ]
  },
  {
   "cell_type": "markdown",
   "metadata": {},
   "source": [
    "## Question 2 :\n",
    "### Write a program that accepts a comma-separated sequence of words as input and prints the words in a comma-separated sequence after sorting them alphabetically.\n",
    "### Input Format:\n",
    "### The first line of input contains words separated by the comma.\n",
    "### Output Format:\n",
    "### Print the sorted words separated by the comma.\n",
    "### Example:\n",
    "### Input:\n",
    "### without,hello,bag,world\n",
    "### Output:\n",
    "### bag,hello,without,world\n",
    "### Solution:"
   ]
  },
  {
   "cell_type": "code",
   "execution_count": 5,
   "metadata": {},
   "outputs": [
    {
     "name": "stdout",
     "output_type": "stream",
     "text": [
      "Enter your email = without,hello,bag,world\n",
      "bag,hello,without,world\n"
     ]
    }
   ],
   "source": [
    "mail = input(\"Enter your comma seprate string = \")\n",
    "l = mail.split(sep = ',')\n",
    "l.sort()\n",
    "print(\",\".join(l))"
   ]
  },
  {
   "cell_type": "markdown",
   "metadata": {},
   "source": [
    "## Question 3:\n",
    "### Create your own Jupyter Notebook for Sets. Reference link:\n",
    "### https://www.w3schools.com/python/python_sets.asp\n",
    "### Solution:"
   ]
  },
  {
   "cell_type": "code",
   "execution_count": 100,
   "metadata": {},
   "outputs": [
    {
     "name": "stdout",
     "output_type": "stream",
     "text": [
      "s =  {1, 2, 3, 4, 5, 6, 7, 8, 9, 10}\n",
      "\n",
      "\n",
      "1. Value of s after add =  {1, 2, 3, 4, 5, 6, 7, 8, 9, 10, 11}\n",
      "\n",
      "\n",
      "2. Copied value of s in s1 =  {1, 2, 3, 4, 5, 6, 7, 8, 9, 10, 11}\n",
      "\n",
      "\n",
      "3. Difference in s1 and s3 =  {1, 2, 3, 5, 6, 7, 8, 9}\n",
      "\n",
      "\n",
      "4. Symmetric diferrence in s1 and s3 =  {1, 2, 3, 5, 6, 7, 8, 9, 12, 13, 14}\n",
      "\n",
      "\n",
      "5. Updated differrece of s1 and s3 in s1 =  {1, 2, 3, 5, 6, 7, 8, 9}\n",
      "\n",
      "\n",
      "6. Updated symmetric differrece of s1 and s3 in s1 =  None\n",
      "\n",
      "\n",
      "7. Discarded s1 =  {1, 2, 3, 4, 6, 7, 8, 9, 10, 11, 12, 13, 14}\n",
      "\n",
      "\n",
      "8. Intersection of s4 in s1 =  {1, 2, 3}\n",
      "\n",
      "\n",
      "9. Intersection updated of s1 and s4 in s1 =  {1, 2, 3}\n",
      "\n",
      "\n",
      "10. After pop in s1 =  {2, 3}\n",
      "\n",
      "\n",
      "11. After remove in s1 =  {3}\n",
      "\n",
      "\n",
      "12. Union of s1 and s3 in s4 =  {3, 4, 10, 11, 12, 13, 14}\n",
      "\n",
      "\n",
      "13. Checks if s is disjoint of s3 or not =  False\n",
      "\n",
      "\n",
      "14. Checks if s1 is subset of s or not =  True\n",
      "\n",
      "\n",
      "15. Checks if s1 is superset of s or not =  True\n",
      "\n",
      "\n",
      "16. Updated s2 =  {16, 17, 3, 15}\n",
      "\n",
      "\n"
     ]
    }
   ],
   "source": [
    "#add\n",
    "s = {1, 2, 3, 4, 5, 6, 7, 8, 9, 10}\n",
    "print(\"s = \",s)\n",
    "print(\"\\n\")\n",
    "s.add(11)\n",
    "print(\"1. Value of s after add = \",s)\n",
    "print(\"\\n\")\n",
    "\n",
    "#Copy\n",
    "s1 = set()\n",
    "s1 = s.copy()\n",
    "print(\"2. Copied value of s in s1 = \",s1)\n",
    "print(\"\\n\")\n",
    "\n",
    "#difference\n",
    "s3 = {10,11,12,13,14,4}\n",
    "print(\"3. Difference in s1 and s3 = \",s1.difference(s3))\n",
    "print(\"\\n\")\n",
    "\n",
    "#symmetric_difference\n",
    "print(\"4. Symmetric diferrence in s1 and s3 = \",s1.symmetric_difference(s3))\n",
    "print(\"\\n\")\n",
    "\n",
    "#difference_update\n",
    "s1.difference_update(s3)\n",
    "s3 = {10,11,12,13,14,4}\n",
    "print(\"5. Updated differrece of s1 and s3 in s1 = \",s1)\n",
    "print(\"\\n\")\n",
    "\n",
    "#symmetric_difference_update\n",
    "print(\"6. Updated symmetric differrece of s1 and s3 in s1 = \",s1.symmetric_difference_update(s3))\n",
    "print(\"\\n\")\n",
    "\n",
    "#discard\n",
    "s1.discard(5)\n",
    "print(\"7. Discarded s1 = \",s1)\n",
    "print(\"\\n\")\n",
    "\n",
    "s4 = {1,2,3}\n",
    "#intersection\n",
    "print(\"8. Intersection of s4 in s1 = \",s1.intersection(s4))\n",
    "print(\"\\n\")\n",
    "\n",
    "#intersection_update\n",
    "s1.intersection_update(s4)\n",
    "print(\"9. Intersection updated of s1 and s4 in s1 = \",s1)\n",
    "print(\"\\n\")\n",
    "\n",
    "#pop\n",
    "s1.pop()\n",
    "print(\"10. After pop in s1 = \",s1)\n",
    "print(\"\\n\")\n",
    "\n",
    "#remove\n",
    "s1.remove(2)\n",
    "print(\"11. After remove in s1 = \",s1)\n",
    "print(\"\\n\")\n",
    "\n",
    "#union\n",
    "s4 = s1.union(s3)\n",
    "print(\"12. Union of s1 and s3 in s4 = \",s4)\n",
    "print(\"\\n\")\n",
    "\n",
    "#isdisjoint\n",
    "print(\"13. Checks if s is disjoint of s3 or not = \",s.isdisjoint(s3))\n",
    "print(\"\\n\")\n",
    "\n",
    "#issubset\n",
    "print(\"14. Checks if s1 is subset of s or not = \",s1.issubset(s))\n",
    "print(\"\\n\")\n",
    "\n",
    "#issuperset\n",
    "print(\"15. Checks if s1 is superset of s or not = \",s.issuperset(s1))\n",
    "print(\"\\n\")\n",
    "\n",
    "#update\n",
    "s2.update({15,16,17})\n",
    "print(\"16. Updated s2 = \",s2)\n",
    "print(\"\\n\")\n"
   ]
  },
  {
   "cell_type": "markdown",
   "metadata": {},
   "source": [
    "### Question 4:\n",
    "### Given a list of n-1 numbers ranging from 1 to n, your task is to find the missing number. There are no duplicates.\n",
    "### Input Format:\n",
    "### The first line contains n-1 numbers with each number separated by a space.\n",
    "### Output Format:\n",
    "### Print the missing number\n",
    "### Example:\n",
    "### Input:\n",
    "### 1 2 4 6 3 7 8\n",
    "### Output:\n",
    "### 5\n",
    "### Explanation:\n",
    "### In the above list of numbers 5 is missing and hence 5 is the input\n",
    "### Solution:"
   ]
  },
  {
   "cell_type": "code",
   "execution_count": 19,
   "metadata": {},
   "outputs": [
    {
     "name": "stdout",
     "output_type": "stream",
     "text": [
      "[1, 2, 3, 4, 6, 7, 8]\n",
      "5\n"
     ]
    }
   ],
   "source": [
    "l = [1, 2, 4, 6, 3, 7, 8]\n",
    "l.sort()\n",
    "for i in range(0,len(l)):\n",
    "    if i+1 != l[i]:\n",
    "        print(i+1)\n",
    "        break"
   ]
  },
  {
   "cell_type": "markdown",
   "metadata": {},
   "source": [
    "### Question 5:\n",
    "### With a given list L, write a program to print this list L after removing all duplicate values with original order\n",
    "### reserved.\n",
    "### Example:\n",
    "### If the input list is\n",
    "### 12 24 35 24 88 120 155 88 120 155\n",
    "### Then the output should be\n",
    "### 12 24 35 88 120 155\n",
    "### Explanation:\n",
    "### Third, the seventh and ninth element of the list L has been removed because it was already present.\n",
    "### Input Format:\n",
    "### In one line take the elements of the list L with each element separated by a space.\n",
    "### Output Format:\n",
    "### Print the elements of the modified list in one line with each element separated by a space.\n",
    "### Example:\n",
    "### Input:\n",
    "### 12 24 35 24\n",
    "### Output:\n",
    "### 12 24 35\n",
    "### Solution:"
   ]
  },
  {
   "cell_type": "code",
   "execution_count": 22,
   "metadata": {},
   "outputs": [
    {
     "name": "stdout",
     "output_type": "stream",
     "text": [
      "[12, 24, 35, 88, 120, 155]\n"
     ]
    }
   ],
   "source": [
    "l = [12, 24, 35, 24, 88, 120, 155, 88, 120, 155]\n",
    "l = set(l)\n",
    "l = list(l)\n",
    "l.sort()\n",
    "print(l)"
   ]
  },
  {
   "cell_type": "code",
   "execution_count": null,
   "metadata": {
    "collapsed": true
   },
   "outputs": [],
   "source": []
  }
 ],
 "metadata": {
  "kernelspec": {
   "display_name": "Python 3",
   "language": "python",
   "name": "python3"
  },
  "language_info": {
   "codemirror_mode": {
    "name": "ipython",
    "version": 3
   },
   "file_extension": ".py",
   "mimetype": "text/x-python",
   "name": "python",
   "nbconvert_exporter": "python",
   "pygments_lexer": "ipython3",
   "version": "3.6.3"
  }
 },
 "nbformat": 4,
 "nbformat_minor": 2
}
