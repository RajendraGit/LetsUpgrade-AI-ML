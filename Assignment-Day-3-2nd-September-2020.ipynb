{
 "cells": [
  {
   "cell_type": "markdown",
   "metadata": {},
   "source": [
    "## Question 1:\n",
    "### Write a program to subtract two complex numbers in Python.\n",
    "### Solution :-"
   ]
  },
  {
   "cell_type": "code",
   "execution_count": 18,
   "metadata": {},
   "outputs": [
    {
     "name": "stdout",
     "output_type": "stream",
     "text": [
      "Enter your complex number1 e.g.(4+5j)= 5+10j\n",
      "Enter your complex number2 e.g.(4+6j)= 2+8j\n",
      "(5+10j)-(2+8j) = (3+2j)\n"
     ]
    }
   ],
   "source": [
    "\n",
    "try:\n",
    "    num1 = complex( input(\"Enter your complex number1 e.g.(4+5j)= \") )\n",
    "    num2 = complex( input(\"Enter your complex number2 e.g.(4+6j)= \") )\n",
    "    \n",
    "    sub = num1-num2\n",
    "\n",
    "    print(\"{}-{} = {}\".format(num1, num2, sub))\n",
    "    \n",
    "except: \n",
    "    print(\"Enter a valid complex input\")"
   ]
  },
  {
   "cell_type": "markdown",
   "metadata": {},
   "source": [
    "## Question 2 :\n",
    "### Write a program to find the fourth root of a number.\n",
    "### Solution :-"
   ]
  },
  {
   "cell_type": "code",
   "execution_count": 19,
   "metadata": {},
   "outputs": [
    {
     "name": "stdout",
     "output_type": "stream",
     "text": [
      "Enter your number = 81\n",
      "Fourth root of your number 81 is 3.0\n"
     ]
    }
   ],
   "source": [
    "num = int( input(\"Enter your number = \") )\n",
    "\n",
    "froot = num**(1/4)\n",
    "\n",
    "print( \"Fourth root of your number {} is {}\".format(num, froot) )"
   ]
  },
  {
   "cell_type": "markdown",
   "metadata": {},
   "source": [
    "## Question 3:\n",
    "### Write a program to swap two numbers in Python with the help of a temporary variable.\n",
    "### Solution :-"
   ]
  },
  {
   "cell_type": "code",
   "execution_count": 20,
   "metadata": {},
   "outputs": [
    {
     "name": "stdout",
     "output_type": "stream",
     "text": [
      "Enter your first number = 10\n",
      "Enter your second number = 20\n",
      "\n",
      "Before swaping\n",
      "\n",
      "Value of first number = 10 and second number = 20.\n",
      "\n",
      "After swaping\n",
      "\n",
      "Value of first number = 20 and second number = 10.\n"
     ]
    }
   ],
   "source": [
    "numb1 = int(input(\"Enter your first number = \"))\n",
    "numb2 = int(input(\"Enter your second number = \"))\n",
    "\n",
    "print(\"\\nBefore swaping\\n\")\n",
    "print(\"Value of first number = {} and second number = {}.\\n\".format(numb1,numb2))\n",
    "\n",
    "temp=numb1\n",
    "numb1=numb2\n",
    "numb2=temp\n",
    "\n",
    "print(\"After swaping\\n\")\n",
    "print(\"Value of first number = {} and second number = {}.\".format(numb1,numb2))"
   ]
  },
  {
   "cell_type": "markdown",
   "metadata": {},
   "source": [
    "## Question 4:\n",
    "### Write a program to swap two numbers in Python without using a temporary variable.\n",
    "### Solution :-"
   ]
  },
  {
   "cell_type": "code",
   "execution_count": 21,
   "metadata": {},
   "outputs": [
    {
     "name": "stdout",
     "output_type": "stream",
     "text": [
      "Enter your first number = 10\n",
      "Enter your second number = 20\n",
      "\n",
      "Before swaping\n",
      "Value of first number = 10 and second number = 20.\n",
      "\n",
      "After swaping\n",
      "Value of first number = 20 and second number = 10.\n"
     ]
    }
   ],
   "source": [
    "numb1 = int( input(\"Enter your first number = \") )\n",
    "numb2 = int( input(\"Enter your second number = \") )\n",
    "\n",
    "print(\"\\nBefore swaping\")\n",
    "print( \"Value of first number = {} and second number = {}.\\n\".format(numb1, numb2) )\n",
    "\n",
    "(numb1, numb2) = (numb2, numb1)\n",
    "\n",
    "print(\"After swaping\")\n",
    "print( \"Value of first number = {} and second number = {}.\".format(numb1, numb2) )"
   ]
  },
  {
   "cell_type": "markdown",
   "metadata": {},
   "source": [
    "## Question 5:\n",
    "### Write a program to convert Fahrenheit to kelvin and celsius both.\n",
    "### Solution :-"
   ]
  },
  {
   "cell_type": "code",
   "execution_count": 22,
   "metadata": {},
   "outputs": [
    {
     "name": "stdout",
     "output_type": "stream",
     "text": [
      "Enter your temprature in Fahrenheit = 32\n",
      "\n",
      "Temprature in Kelvin = 273.17.\n",
      "\n",
      "Temprature in Celsius = 0.0.\n"
     ]
    }
   ],
   "source": [
    "tem_f = int( input(\"Enter your temprature in Fahrenheit = \") )\n",
    "\n",
    "tem_c = (tem_f-32)*(5/9)\n",
    "tem_k = tem_c + 273.17\n",
    "\n",
    "print( \"\\nTemprature in Kelvin = {}.\\n\\nTemprature in Celsius = {}.\".format(tem_k, tem_c) )"
   ]
  },
  {
   "cell_type": "markdown",
   "metadata": {},
   "source": [
    "## Question 6:\n",
    "### Write a program to demonstrate all the available data types in Python. Hint: Use type() function.\n",
    "### Solution:-"
   ]
  },
  {
   "cell_type": "code",
   "execution_count": 17,
   "metadata": {},
   "outputs": [
    {
     "name": "stdout",
     "output_type": "stream",
     "text": [
      "1. Numeric :- \n",
      "\ti.   12 \t<-- <class 'int'>.\n",
      "\tii.  True \t<-- <class 'bool'>.\n",
      "\tiii. (5+6j) \t<--<class 'complex'>.\n",
      "\n",
      "2. Sequence Type :-\n",
      "\ti.   [1, 2, 3] \t<-- <class 'list'>.\n",
      "\tii.  Data type \t<-- <class 'str'>.\n",
      "\tiii. (1, 2, 3) \t<--<class 'tuple'>.\n",
      "\n",
      "3. Boolean :-\n",
      "\ti.   True \t<-- <class 'bool'>.\n",
      "\n",
      "4. Set :- \n",
      "\ti.   {(1, 2, 3)} \t<-- <class 'set'>.\n",
      "\n",
      "5. Dictionary :- \n",
      "\ti.   {'key': 'Value'} \t<-- <class 'dict'>.\n",
      "\n"
     ]
    }
   ],
   "source": [
    "i=12; f=12.5; c=5+6j\n",
    "print( \"1. Numeric :- \\n\\ti.   {} \\t<-- {}.\\n\\tii.  {} \\t<-- {}.\\n\\tiii. {} \\t<--{}.\\n\"\n",
    "      .format( a, type(a), b, type(b), c, type(c) ) )\n",
    "\n",
    "l=[1,2,3]; st=\"Data type\"; t=(1,2,3)\n",
    "print( \"2. Sequence Type :-\\n\\ti.   {} \\t<-- {}.\\n\\tii.  {} \\t<-- {}.\\n\\tiii. {} \\t<--{}.\\n\"\n",
    "        .format(l, type(l), st, type(st), t , type(t) ) )\n",
    "b=True\n",
    "print( \"3. Boolean :-\\n\\ti.   {} \\t<-- {}.\\n\".format(b, type(b) ) )\n",
    "\n",
    "s={(1,2,3)}\n",
    "print( \"4. Set :- \\n\\ti.   {} \\t<-- {}.\\n\".format( s, type(s) ))\n",
    "\n",
    "d={\"key\":\"Value\"}\n",
    "print( \"5. Dictionary :- \\n\\ti.   {} \\t<-- {}.\\n\".format( d, type(d) ) )"
   ]
  }
 ],
 "metadata": {
  "kernelspec": {
   "display_name": "Python 3",
   "language": "python",
   "name": "python3"
  },
  "language_info": {
   "codemirror_mode": {
    "name": "ipython",
    "version": 3
   },
   "file_extension": ".py",
   "mimetype": "text/x-python",
   "name": "python",
   "nbconvert_exporter": "python",
   "pygments_lexer": "ipython3",
   "version": "3.6.3"
  }
 },
 "nbformat": 4,
 "nbformat_minor": 2
}
