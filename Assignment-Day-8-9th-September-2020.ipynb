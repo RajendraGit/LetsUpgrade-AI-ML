{
 "cells": [
  {
   "cell_type": "markdown",
   "metadata": {},
   "source": [
    "## Question 1:\n",
    "### Recreate “NB 21 map, filter, lambda.ipynb” to try different variations or perform different calculations from the ones that are in the NB\n",
    "### Solution:"
   ]
  },
  {
   "cell_type": "markdown",
   "metadata": {},
   "source": [
    "## map(), filter() and reduce() are built-in functions of Python.\n",
    "\n",
    "These functions enable the functional programming aspect of Python.\n",
    "\n",
    "In Functional Programming, the arguments passed are the only factors that decide upon the output.\n",
    "\n",
    "These functions can take any other function as a parameter and can be supplied to other functions as parameters as well.\n",
    "\n",
    "### map()-\n",
    "It applies the given function to all iterables and returns a new list.\n",
    "\n",
    "### SYNTAX:\n",
    "\n",
    "map(function, iterables)\n"
   ]
  },
  {
   "cell_type": "code",
   "execution_count": 43,
   "metadata": {},
   "outputs": [
    {
     "name": "stdout",
     "output_type": "stream",
     "text": [
      "125\n"
     ]
    }
   ],
   "source": [
    "# map(function, iterables)\n",
    "def cube(a):\n",
    "    return a*a*a\n",
    "x= cube(5)\n",
    "print(x)"
   ]
  },
  {
   "cell_type": "code",
   "execution_count": 42,
   "metadata": {},
   "outputs": [
    {
     "name": "stdout",
     "output_type": "stream",
     "text": [
      "<map object at 0x000001FF357E4710>\n",
      "<class 'map'>\n",
      "[1, 8, 27, 64, 125]\n"
     ]
    }
   ],
   "source": [
    "# map(function, iterables)\n",
    "def cube(a):\n",
    "    return a*a*a\n",
    "# your code goes here2\n",
    "x = map(cube,[1,2,3,4,5])\n",
    "print(x)\n",
    "print(type(x))\n",
    "print(list(x))"
   ]
  },
  {
   "cell_type": "code",
   "execution_count": 41,
   "metadata": {},
   "outputs": [
    {
     "name": "stdout",
     "output_type": "stream",
     "text": [
      "[3, 4, 5, 6]\n"
     ]
    }
   ],
   "source": [
    "# map(function, iterables)\n",
    "def add(a,b):\n",
    "    return a+b\n",
    "# your code goes here3\n",
    "x = map(add, [1,2,3,4], [2,2,2,2] )\n",
    "print(list(x))"
   ]
  },
  {
   "cell_type": "code",
   "execution_count": 44,
   "metadata": {},
   "outputs": [
    {
     "name": "stdout",
     "output_type": "stream",
     "text": [
      "[2, 4, 6, 8]\n"
     ]
    }
   ],
   "source": [
    "# map(function, iterables)\n",
    "def sqr(a,b):\n",
    "    return a*b\n",
    "# your code goes here3\n",
    "print(list(map(sqr, [1,2,3,4], [2,2,2,2] )))"
   ]
  },
  {
   "cell_type": "code",
   "execution_count": 45,
   "metadata": {},
   "outputs": [
    {
     "name": "stdout",
     "output_type": "stream",
     "text": [
      "[0, 2, 4, 6, 8]\n"
     ]
    }
   ],
   "source": [
    "# map(function, iterables)\n",
    "def sqr(a,b):\n",
    "    return a*b\n",
    "# your code goes here3\n",
    "print(list(map(sqr, [ i for i in range(5)], (2,2,2,2,2) )))"
   ]
  },
  {
   "cell_type": "markdown",
   "metadata": {},
   "source": [
    "## Lambda functions\n",
    "Everything in the world of programming requires a name, but there still there are a few ananymous mysteries. Lambda functions or Lambda expressions are one of these kind of entities that are nameless.\n",
    "\n",
    "- They are the functions that do not have any name.\n",
    "\n",
    "- We also call them as anonymous or nameless functions.\n",
    "\n",
    "- They are generally provided as input to other functions.\n",
    "\n",
    "- Lambda functions are single line functions. Therefore we have to provide the expression along with the function itself.\n",
    "\n",
    "### Note: 'lambda' is not a name, it s a keyword.\n",
    "\n",
    "### Use of lambda functions:\n",
    "\n",
    "One time use: They are used in places where we know that the function will be required just once. Therefore, lambda functions are also called as throw away functions.\n",
    "\n",
    "Input/Output to other functions: They are also passed as inputs or returned as outputs of other higher-order functions.\n",
    "\n",
    "Reduce Code size: The body of lambda functions is written in a single line.\n",
    "\n",
    "### SYNTAX:\n",
    "\n",
    "lambda arguments: expression\n"
   ]
  },
  {
   "cell_type": "code",
   "execution_count": 47,
   "metadata": {},
   "outputs": [
    {
     "data": {
      "text/plain": [
       "27"
      ]
     },
     "execution_count": 47,
     "metadata": {},
     "output_type": "execute_result"
    }
   ],
   "source": [
    "# without lambda\n",
    "def cube(a):\n",
    "    return a*a*a\n",
    "\n",
    "cube(3)"
   ]
  },
  {
   "cell_type": "code",
   "execution_count": 48,
   "metadata": {},
   "outputs": [
    {
     "data": {
      "text/plain": [
       "27"
      ]
     },
     "execution_count": 48,
     "metadata": {},
     "output_type": "execute_result"
    }
   ],
   "source": [
    "x = lambda a: a*a*a\n",
    "x(3)"
   ]
  },
  {
   "cell_type": "code",
   "execution_count": 50,
   "metadata": {},
   "outputs": [
    {
     "name": "stdout",
     "output_type": "stream",
     "text": [
      "<function abc.<locals>.<lambda> at 0x000001FF357B12F0>\n",
      "-1\n"
     ]
    }
   ],
   "source": [
    "# lambda within user defined functions\n",
    "def abc(x):\n",
    "    return lambda y: x-y\n",
    "t = abc(4)\n",
    "print(t)\n",
    "print(t(5))"
   ]
  },
  {
   "cell_type": "code",
   "execution_count": 51,
   "metadata": {},
   "outputs": [
    {
     "name": "stdout",
     "output_type": "stream",
     "text": [
      "Hi from mno\n"
     ]
    }
   ],
   "source": [
    "def mno():\n",
    "    print(\"Hi from mno\")\n",
    "mno()"
   ]
  },
  {
   "cell_type": "code",
   "execution_count": 52,
   "metadata": {},
   "outputs": [
    {
     "data": {
      "text/plain": [
       "8"
      ]
     },
     "execution_count": 52,
     "metadata": {},
     "output_type": "execute_result"
    }
   ],
   "source": [
    "# Solving Algebraic expressions using lambda\n",
    "# LINEAR EQUATIONS\n",
    "# Snippet 1:x+y\n",
    "x = lambda x,y: x+y\n",
    "x(3,5)"
   ]
  },
  {
   "cell_type": "code",
   "execution_count": 53,
   "metadata": {},
   "outputs": [
    {
     "data": {
      "text/plain": [
       "8"
      ]
     },
     "execution_count": 53,
     "metadata": {},
     "output_type": "execute_result"
    }
   ],
   "source": [
    "# Solving Algebraic expressions using lambda\n",
    "# LINEAR EQUATIONS\n",
    "# Snippet 2: 5x+3y\n",
    "z = lambda x: 5*x+3\n",
    "z(1)"
   ]
  },
  {
   "cell_type": "code",
   "execution_count": 56,
   "metadata": {},
   "outputs": [
    {
     "name": "stdout",
     "output_type": "stream",
     "text": [
      "125\n"
     ]
    }
   ],
   "source": [
    "# Solving Algebraic expressions using lambda\n",
    "# QUADRATIC EQUATIONS\n",
    "# Snippet 1: (a+b)^3\n",
    "z = lambda x,y: (x+y)**3\n",
    "print(z(2,3))"
   ]
  },
  {
   "cell_type": "code",
   "execution_count": 58,
   "metadata": {},
   "outputs": [
    {
     "name": "stdout",
     "output_type": "stream",
     "text": [
      "[1, 4, 9, 16]\n"
     ]
    }
   ],
   "source": [
    "# Use lambda functions along with map function\n",
    "l = [1,2,3,4]\n",
    "\n",
    "print(list(map(lambda x: x*x,l)))"
   ]
  },
  {
   "cell_type": "code",
   "execution_count": 59,
   "metadata": {},
   "outputs": [
    {
     "name": "stdout",
     "output_type": "stream",
     "text": [
      "[3, 4, 5, 6]\n"
     ]
    }
   ],
   "source": [
    "# Lets further shorten the above code\n",
    "l = [1,2,3,4]\n",
    "x = list(map(lambda x: x+2,l))\n",
    "print(x)"
   ]
  },
  {
   "cell_type": "markdown",
   "metadata": {},
   "source": [
    "## filter()\n",
    "It is used to filter the given iterables with the help of another function passed as an argument to test all the elements to be True or False.\n",
    "\n",
    "### SYNTAX:\n",
    "\n",
    "filter(function, iterables)\n"
   ]
  },
  {
   "cell_type": "code",
   "execution_count": 60,
   "metadata": {},
   "outputs": [
    {
     "name": "stdout",
     "output_type": "stream",
     "text": [
      "<filter object at 0x000001FF356FCF60>\n",
      "<class 'filter'>\n",
      "[2, 4]\n"
     ]
    }
   ],
   "source": [
    "# filter(function, iterables)\n",
    "def even(a):\n",
    "    if a%2 == 0:\n",
    "        return a\n",
    "# your code goes here1.2\n",
    "x = filter( even, [1,2,3,4,5] )\n",
    "print(x)\n",
    "print(type(x))\n",
    "print(list(x))"
   ]
  },
  {
   "cell_type": "code",
   "execution_count": 63,
   "metadata": {},
   "outputs": [
    {
     "name": "stdout",
     "output_type": "stream",
     "text": [
      "[2, 4]\n"
     ]
    }
   ],
   "source": [
    "l = [1,2,3,4]\n",
    "# your code goes here1.3\n",
    "x = filter( lambda x: x%2==0 ,l )\n",
    "print(list(x))"
   ]
  },
  {
   "cell_type": "code",
   "execution_count": 64,
   "metadata": {},
   "outputs": [
    {
     "name": "stdout",
     "output_type": "stream",
     "text": [
      "[2, 4]\n"
     ]
    }
   ],
   "source": [
    "l = [1,2,3,4]\n",
    "print(list(filter( lambda x: x%2==0 ,l )))"
   ]
  },
  {
   "cell_type": "markdown",
   "metadata": {},
   "source": [
    "## reduce()\n",
    "It applies some other function to a list that are passed as a parameter to it and finally return a single value.\n",
    "\n",
    "### SYNTAX:\n",
    "\n",
    "reduce(function, iterables)\n"
   ]
  },
  {
   "cell_type": "code",
   "execution_count": 5,
   "metadata": {},
   "outputs": [
    {
     "name": "stdout",
     "output_type": "stream",
     "text": [
      "120\n"
     ]
    }
   ],
   "source": [
    "# reduce(function, iterables)\n",
    "from functools import reduce # its required here\n",
    "def fact(a,b):\n",
    "    return a*b\n",
    "# your code goes here1+5\n",
    "x = reduce(fact, [x for x in range(1,6)])\n",
    "print(x)"
   ]
  },
  {
   "cell_type": "code",
   "execution_count": 6,
   "metadata": {},
   "outputs": [
    {
     "data": {
      "text/plain": [
       "120"
      ]
     },
     "execution_count": 6,
     "metadata": {},
     "output_type": "execute_result"
    }
   ],
   "source": [
    "# lets use reduce with lambda() now\n",
    "reduce( lambda x,y: x*y , [1,2,3,4,5] )"
   ]
  },
  {
   "cell_type": "code",
   "execution_count": 7,
   "metadata": {},
   "outputs": [
    {
     "name": "stdout",
     "output_type": "stream",
     "text": [
      "<map object at 0x000002808DA3BC88>\n",
      "[4, 8]\n"
     ]
    }
   ],
   "source": [
    "# filter within map\n",
    "x = map(lambda x: x+x,  filter(lambda x: x%2==0., [1,2,3,4]))\n",
    "print(x)\n",
    "print(list(x))"
   ]
  },
  {
   "cell_type": "code",
   "execution_count": 8,
   "metadata": {},
   "outputs": [
    {
     "name": "stdout",
     "output_type": "stream",
     "text": [
      "<filter object at 0x000002808DA3BDA0>\n",
      "[4.0, 6.0]\n"
     ]
    }
   ],
   "source": [
    "# map within filter\n",
    "x = filter(lambda x: x%2==0,  map(lambda x: x+3., [1,2,3,4]))\n",
    "\n",
    "print(x)\n",
    "print(list(x))"
   ]
  },
  {
   "cell_type": "code",
   "execution_count": 9,
   "metadata": {},
   "outputs": [
    {
     "name": "stdout",
     "output_type": "stream",
     "text": [
      "20\n"
     ]
    }
   ],
   "source": [
    "# map and filter within reduce\n",
    "x = reduce(lambda x,y: x+y,  map(lambda x:x*x, filter(lambda x: x%2==0, (1,2,3,4))))\n",
    "print(x)"
   ]
  },
  {
   "cell_type": "markdown",
   "metadata": {},
   "source": [
    "## Question 2:\n",
    "### Recreate your own Python NB for “Classes and Objects” from the pdf provided namely “Classes&Objects.pdf”\n",
    "### Solution:"
   ]
  },
  {
   "cell_type": "markdown",
   "metadata": {},
   "source": [
    "## Overview of OOP Terminology\n",
    "### Class:\n",
    "A user-defined prototype for an object that defines a set of attributes that characterize any object of the class. The attributes are data members (class variables and instance variables) and methods, accessed via dot notation.\n",
    "### Class variable: \n",
    "A variable that is shared by all instances of a class. Class variables are defined within a class but outside any of the class's methods. Class variables are not used as frequently as instance variables are.\n",
    "### Data member: \n",
    "A class variable or instance variable that holds data associated with a class and its objects.\n",
    "### Function overloading: \n",
    "The assignment of more than one behavior to a particular function. The operation performed varies by the types of objects or arguments involved.\n",
    "### Instance variable:\n",
    "A variable that is defined inside a method and belongs only to the current instance of a class.\n",
    "### Inheritance:\n",
    "The transfer of the characteristics of a class to other classes that are derived from it.\n",
    "### Instance: \n",
    "An individual object of a certain class. An object obj that belongs to a class Circle, for example, is an instance of the class Circle.\n",
    "###  Instantiation: \n",
    "The creation of an instance of a class.\n",
    "### Method: \n",
    "A special kind of function that is defined in a class definition.\n",
    "### Object: \n",
    "A unique instance of a data structure that's defined by its class. An object comprises both data members (class variables and instance variables) and methods.\n",
    "### Operator overloading: The assignment of more than one function to a particular operator."
   ]
  },
  {
   "cell_type": "markdown",
   "metadata": {},
   "source": [
    "## Creating Classes\n",
    "The class statement creates a new class definition. The name of the class immediately follows the keyword class followed by a colon as follows:\n",
    "#### class ClassName:\n",
    "####        'Optional class documentation string'\n",
    "####  class_suite\n",
    "- The class has a documentation string, which can be accessed viaClassName.__doc__.\n",
    "- The class_suite consists of all the component statements defining class members, data attributes and functions."
   ]
  },
  {
   "cell_type": "code",
   "execution_count": 11,
   "metadata": {
    "collapsed": true
   },
   "outputs": [],
   "source": [
    "class Employee:\n",
    "#    'Common base class for all employees'\n",
    "    empCount = 0\n",
    "    def __init__(self, name, salary):\n",
    "        self.name = name\n",
    "        self.salary = salary\n",
    "        Employee.empCount += 1\n",
    "\n",
    "    def displayCount(self):\n",
    "        print(\"Total Employee %d\" % Employee.empCount)\n",
    "    def displayEmployee(self):\n",
    "        print(\"Name : \", self.name, \", Salary: \", self.salary)"
   ]
  },
  {
   "cell_type": "markdown",
   "metadata": {},
   "source": [
    "- The variable empCount is a class variable whose value is shared among all instances of a this class. This can be accessed as Employee.empCount from inside the class or outside the class.\n",
    "- The first method __init__() is a special method, which is called class constructor or initialization method that Python calls when you create a new instance of this class.\n",
    "- You declare other class methods like normal functions with the exception that the first argument to each method is self. Python adds the self argument to the list for you; you do not need to include it when you call the methods.\n",
    "## Creating Instance Objects\n",
    "        To create instances of a class, you call the class using class name and pass in whatever arguments its __init__ method accepts."
   ]
  },
  {
   "cell_type": "code",
   "execution_count": 13,
   "metadata": {},
   "outputs": [],
   "source": [
    "# \"This would create first object of Employee class\"\n",
    "emp1 = Employee(\"Zara\", 2000)\n",
    "\n",
    "#\"This would create second object of Employee class\"\n",
    "emp2 = Employee(\"Manni\", 5000)"
   ]
  },
  {
   "cell_type": "markdown",
   "metadata": {},
   "source": [
    "## Accessing Attributes\n",
    "You access the object's attributes using the dot operator with object. Class variable would be accessed using class name as follows:"
   ]
  },
  {
   "cell_type": "code",
   "execution_count": 14,
   "metadata": {},
   "outputs": [
    {
     "name": "stdout",
     "output_type": "stream",
     "text": [
      "Name :  Zara , Salary:  2000\n",
      "Name :  Manni , Salary:  5000\n",
      "Total Employee 4\n"
     ]
    }
   ],
   "source": [
    "emp1.displayEmployee()\n",
    "emp2.displayEmployee()\n",
    "print(\"Total Employee %d\" % Employee.empCount)"
   ]
  },
  {
   "cell_type": "markdown",
   "metadata": {},
   "source": [
    "### Now, putting all the concepts together:"
   ]
  },
  {
   "cell_type": "code",
   "execution_count": 15,
   "metadata": {},
   "outputs": [
    {
     "name": "stdout",
     "output_type": "stream",
     "text": [
      "Name :  Zara , Salary:  2000\n",
      "Name :  Manni , Salary:  5000\n",
      "Total Employee 2\n"
     ]
    }
   ],
   "source": [
    "#!/usr/bin/python\n",
    "class Employee:\n",
    " #'Common base class for all employees'\n",
    "    empCount = 0\n",
    "    def __init__(self, name, salary):\n",
    "        self.name = name\n",
    "        self.salary = salary\n",
    "        Employee.empCount += 1\n",
    "\n",
    "    def displayCount(self):\n",
    "        print(\"Total Employee %d\" % Employee.empCount)\n",
    "    def displayEmployee(self):\n",
    "        print(\"Name : \", self.name, \", Salary: \", self.salary)\n",
    "        \n",
    "#\"This would create first object of Employee class\"\n",
    "emp1 = Employee(\"Zara\", 2000)\n",
    "#\"This would create second object of Employee class\"\n",
    "emp2 = Employee(\"Manni\", 5000)\n",
    "emp1.displayEmployee()\n",
    "emp2.displayEmployee()\n",
    "print(\"Total Employee %d\" % Employee.empCount)"
   ]
  },
  {
   "cell_type": "markdown",
   "metadata": {},
   "source": [
    "### You can add, remove, or modify attributes of classes and objects at any time:"
   ]
  },
  {
   "cell_type": "code",
   "execution_count": 16,
   "metadata": {
    "collapsed": true
   },
   "outputs": [],
   "source": [
    "emp1.age = 7 # Add an 'age' attribute.\n",
    "emp1.age = 8 # Modify 'age' attribute.\n",
    "del emp1.age # Delete 'age' attribute."
   ]
  },
  {
   "cell_type": "markdown",
   "metadata": {},
   "source": [
    "Instead of using the normal statements to access attributes, you can use the following\n",
    "functions:\n",
    "- The getattr(obj, name[, default]) : to access the attribute of object.\n",
    "- The hasattr(obj,name) : to check if an attribute exists or not.\n",
    "- The setattr(obj,name,value) : to set an attribute. If attribute does not exist, then it would be created.\n",
    "- The delattr(obj, name) : to delete an attribute."
   ]
  },
  {
   "cell_type": "code",
   "execution_count": 24,
   "metadata": {},
   "outputs": [
    {
     "name": "stdout",
     "output_type": "stream",
     "text": [
      "True\n",
      "8\n"
     ]
    }
   ],
   "source": [
    "setattr(emp1, 'age', 8) # Set attribute 'age' at 8\n",
    "print(hasattr(emp1, 'age')) # Returns true if 'age' attribute exists\n",
    "print(getattr(emp1, 'age')) # Returns value of 'age' attribute\n",
    "delattr(emp1, 'age') # Delete attribute 'age'"
   ]
  },
  {
   "cell_type": "markdown",
   "metadata": {},
   "source": [
    "# Built-In Class Attributes"
   ]
  },
  {
   "cell_type": "raw",
   "metadata": {},
   "source": [
    "Every Python class keeps following built-in attributes and they can be accessed using\n",
    "dot operator like any other attribute:\n",
    "- __dict__: Dictionary containing the class's namespace.\n",
    "- __doc__: Class documentation string or none, if undefined.\n",
    "- __name__: Class name.\n",
    "- __module__: Module name in which the class is defined. This attribute is \"__main__\" in interactive mode.\n",
    "- __bases__: A possibly empty tuple containing the base classes, in the order of their occurrence in the base class list.\n",
    "\n",
    "For the above class let us try to access all these attributes:"
   ]
  },
  {
   "cell_type": "code",
   "execution_count": 27,
   "metadata": {},
   "outputs": [
    {
     "name": "stdout",
     "output_type": "stream",
     "text": [
      "Employee.__doc__: None\n",
      "Employee.__name__: Employee\n",
      "Employee.__module__: __main__\n",
      "Employee.__bases__: (<class 'object'>,)\n",
      "Employee.__dict__: {'__module__': '__main__', 'empCount': 0, '__init__': <function Employee.__init__ at 0x000001FF357B16A8>, 'displayCount': <function Employee.displayCount at 0x000001FF357B1730>, 'displayEmployee': <function Employee.displayEmployee at 0x000001FF357B17B8>, '__dict__': <attribute '__dict__' of 'Employee' objects>, '__weakref__': <attribute '__weakref__' of 'Employee' objects>, '__doc__': None}\n"
     ]
    }
   ],
   "source": [
    "#!/usr/bin/python\n",
    "class Employee:\n",
    "# 'Common base class for all employees'\n",
    "    empCount = 0\n",
    "    def __init__(self, name, salary):\n",
    "        self.name = name\n",
    "        self.salary = salary\n",
    "        Employee.empCount += 1\n",
    "\n",
    "    def displayCount(self):\n",
    "        print(\"Total Employee %d\" % Employee.empCount)\n",
    "    def displayEmployee(self):\n",
    "        print(\"Name : \", self.name, \", Salary: \", self.salary)\n",
    "print(\"Employee.__doc__:\", Employee.__doc__)\n",
    "print(\"Employee.__name__:\", Employee.__name__)\n",
    "print(\"Employee.__module__:\", Employee.__module__)\n",
    "print(\"Employee.__bases__:\", Employee.__bases__)\n",
    "print(\"Employee.__dict__:\", Employee.__dict__)\n"
   ]
  },
  {
   "cell_type": "markdown",
   "metadata": {},
   "source": [
    "## Destroying Objects (Garbage Collection)\n",
    "Python deletes unneeded objects (built-in types or class instances) automatically to free the memory space. The process by which Python periodically reclaims blocks of memory that no longer are in use is termed Garbage Collection. Python's garbage collector runs during program execution and is triggered when an object's reference count reaches zero. An object's reference count changes as the number of aliases that point to it changes.\n",
    "An object's reference count increases when it is assigned a new name or placed in a container (list, tuple, or dictionary). The object's reference count decreases when it's deleted with del, its reference is reassigned, or its reference goes out of scope. When an object's reference count reaches zero, Python collects it automatically.\n"
   ]
  },
  {
   "cell_type": "code",
   "execution_count": 25,
   "metadata": {
    "collapsed": true
   },
   "outputs": [],
   "source": [
    "a = 40 # Create object <40>\n",
    "b = a # Increase ref. count of <40>\n",
    "c = [b] # Increase ref. count of <40>\n",
    "del a # Decrease ref. count of <40>\n",
    "b = 100 # Decrease ref. count of <40> \n",
    "c[0] = -1 # Decrease ref. count of <40>"
   ]
  },
  {
   "cell_type": "markdown",
   "metadata": {},
   "source": [
    "You normally will not notice when the garbage collector destroys an orphaned instance and reclaims its space. But a class can implement the special method __del__(), called a destructor, that is invoked when the instance is about to be destroyed. This method might be used to clean up any non-memory resources used by an instance.\n",
    "### Example\n",
    "This __del__() destructor prints the class name of an instance that is about to be\n",
    "destroyed:"
   ]
  },
  {
   "cell_type": "code",
   "execution_count": 26,
   "metadata": {},
   "outputs": [
    {
     "name": "stdout",
     "output_type": "stream",
     "text": [
      "2751155388200 2751155388200 2751155388200\n",
      "Point destroyed\n"
     ]
    }
   ],
   "source": [
    "#!/usr/bin/python\n",
    "class Point:\n",
    "    def __init( self, x=0, y=0):\n",
    "        self.x = x\n",
    "        self.y = y\n",
    "    def __del__(self):\n",
    "        class_name = self.__class__.__name__\n",
    "        print(class_name, \"destroyed\")\n",
    "pt1 = Point()\n",
    "pt2 = pt1\n",
    "pt3 = pt1\n",
    "print(id(pt1), id(pt2), id(pt3)) # prints the ids of the obejcts\n",
    "del pt1\n",
    "del pt2\n",
    "del pt3"
   ]
  },
  {
   "cell_type": "markdown",
   "metadata": {},
   "source": [
    "## Class Inheritance\n",
    "Instead of starting from scratch, you can create a class by deriving it from a preexisting class by listing the parent class in parentheses after the new class name.\n",
    "The child class inherits the attributes of its parent class, and you can use those attributes as if they were defined in the child class. A child class can also override data members and methods from the parent.\n",
    "### Syntax\n",
    "Derived classes are declared much like their parent class; however, a list of base\n",
    "classes to inherit from is given after the class name:\n",
    "#### class SubClassName (ParentClass1[, ParentClass2, ...]):\n",
    "####   'Optional class documentation string'\n",
    "#### class_suite\n",
    "### Example"
   ]
  },
  {
   "cell_type": "code",
   "execution_count": 33,
   "metadata": {},
   "outputs": [
    {
     "name": "stdout",
     "output_type": "stream",
     "text": [
      "Calling child constructor\n",
      "Calling child method\n",
      "Calling parent method\n",
      "Parent attribute : 200\n"
     ]
    }
   ],
   "source": [
    "#!/usr/bin/python\n",
    "class Parent: # define parent class\n",
    "    parentAttr = 100\n",
    "    def __init__(self):\n",
    "        print(\"Calling parent constructor\")\n",
    "    def parentMethod(self):\n",
    "         print('Calling parent method')\n",
    "    def setAttr(self, attr):\n",
    "        Parent.parentAttr = attr\n",
    "    def getAttr(self):\n",
    "        print(\"Parent attribute :\", Parent.parentAttr)\n",
    "        \n",
    "class Child(Parent): # define child class\n",
    "    def __init__(self):\n",
    "        print(\"Calling child constructor\")\n",
    "    def childMethod(self):\n",
    "        print('Calling child method')\n",
    "c = Child() # instance of child\n",
    "c.childMethod() # child calls its method\n",
    "c.parentMethod() # calls parent's method\n",
    "c.setAttr(200) # again call parent's method\n",
    "c.getAttr() # again call parent's method\n",
    "\n",
    "#When the above code is executed, it produces the following result:"
   ]
  },
  {
   "cell_type": "markdown",
   "metadata": {},
   "source": [
    "#### Similar way, you can drive a class from multiple parent classes as follows:\n",
    "\n",
    "#### class A: # define your class A\n",
    "#### .....\n",
    "#### class B: # define your calss B\n",
    "#### .....\n",
    "#### class C(A, B): # subclass of A and B\n",
    "#### .....\n",
    "#### You can use issubclass() or isinstance() functions to check a relationships of two classes and instances.\n",
    "- The issubclass(sub, sup) boolean function returns true if the given subclass sub is indeed a subclass of the superclass sup.\n",
    "- The isinstance(obj, Class) boolean function returns true if obj is an instance of class Class or is an instance of a subclass of Cla"
   ]
  },
  {
   "cell_type": "markdown",
   "metadata": {},
   "source": [
    "## Overriding Methods\n",
    "You can always override your parent class methods. One reason for overriding\n",
    "parent's methods is because you may want special or different functionality in your\n",
    "subclass.\n",
    "\n",
    "### Example"
   ]
  },
  {
   "cell_type": "code",
   "execution_count": 35,
   "metadata": {},
   "outputs": [
    {
     "name": "stdout",
     "output_type": "stream",
     "text": [
      "Calling child method\n"
     ]
    }
   ],
   "source": [
    "#!/usr/bin/python\n",
    "class Parent: # define parent class\n",
    "    def myMethod(self):\n",
    "        print('Calling parent method')\n",
    "class Child(Parent): # define child class\n",
    "    def myMethod(self):\n",
    "        print('Calling child method')\n",
    "c = Child() # instance of child\n",
    "c.myMethod() # child calls overridden method\n",
    "#When the above code is executed, it produces the following result:"
   ]
  },
  {
   "cell_type": "markdown",
   "metadata": {},
   "source": [
    "### Following table lists some generic functionality that you can override in your ownclasses:"
   ]
  },
  {
   "cell_type": "raw",
   "metadata": {},
   "source": [
    "- 1\n",
    "__init__ ( self [,args...] )\n",
    "Constructor (with any optional arguments)\n",
    "Sample Call : obj = className(args)\n",
    "- 2\n",
    "__del__( self )\n",
    "Destructor, deletes an object\n",
    "Sample Call : del obj\n",
    "- 3\n",
    "__repr__( self )\n",
    "Evaluatable string representation\n",
    "Sample Call : repr(obj)\n",
    "\n",
    "- 4\n",
    "__str__( self )\n",
    "Printable string representation\n",
    "Sample Call : str(obj)\n",
    "- 5\n",
    "__cmp__ ( self, x )\n",
    "Object comparison\n",
    "Sample Call : cmp(obj, x)"
   ]
  },
  {
   "cell_type": "markdown",
   "metadata": {},
   "source": [
    "## Overloading Operators\n",
    "Suppose you have created a Vector class to represent two-dimensional vectors, what\n",
    "happens when you use the plus operator to add them? Most likely Python will yell at\n",
    "you.\n",
    "You could, however, define the __add__ method in your class to perform vector\n",
    "addition and then the plus operator would behave as per expectation:\n",
    "### Example\n"
   ]
  },
  {
   "cell_type": "code",
   "execution_count": 36,
   "metadata": {},
   "outputs": [
    {
     "name": "stdout",
     "output_type": "stream",
     "text": [
      "Vector (7, 8)\n"
     ]
    }
   ],
   "source": [
    "#!/usr/bin/python\n",
    "class Vector:\n",
    "    def __init__(self, a, b):\n",
    "        self.a = a\n",
    "        self.b = b\n",
    "    def __str__(self):\n",
    "        return 'Vector (%d, %d)' % (self.a, self.b)\n",
    "\n",
    "    def __add__(self,other):\n",
    "        return Vector(self.a + other.a, self.b + other.b)\n",
    "v1 = Vector(2,10)\n",
    "v2 = Vector(5,-2)\n",
    "print(v1 + v2)\n",
    "#When the above code is executed, it produces the following result:"
   ]
  },
  {
   "cell_type": "markdown",
   "metadata": {},
   "source": [
    "## Data Hiding\n",
    "An object's attributes may or may not be visible outside the class definition. You need\n",
    "to name attributes with a double underscore prefix, and those attributes then are not\n",
    "be directly visible to outsiders.\n",
    "### Example"
   ]
  },
  {
   "cell_type": "code",
   "execution_count": 37,
   "metadata": {},
   "outputs": [
    {
     "name": "stdout",
     "output_type": "stream",
     "text": [
      "1\n",
      "2\n"
     ]
    },
    {
     "ename": "AttributeError",
     "evalue": "'JustCounter' object has no attribute '__secretCount'",
     "output_type": "error",
     "traceback": [
      "\u001b[1;31m---------------------------------------------------------------------------\u001b[0m",
      "\u001b[1;31mAttributeError\u001b[0m                            Traceback (most recent call last)",
      "\u001b[1;32m<ipython-input-37-b6228d161dac>\u001b[0m in \u001b[0;36m<module>\u001b[1;34m()\u001b[0m\n\u001b[0;32m      9\u001b[0m \u001b[0mcounter\u001b[0m\u001b[1;33m.\u001b[0m\u001b[0mcount\u001b[0m\u001b[1;33m(\u001b[0m\u001b[1;33m)\u001b[0m\u001b[1;33m\u001b[0m\u001b[0m\n\u001b[0;32m     10\u001b[0m \u001b[0mcounter\u001b[0m\u001b[1;33m.\u001b[0m\u001b[0mcount\u001b[0m\u001b[1;33m(\u001b[0m\u001b[1;33m)\u001b[0m\u001b[1;33m\u001b[0m\u001b[0m\n\u001b[1;32m---> 11\u001b[1;33m \u001b[0mprint\u001b[0m\u001b[1;33m(\u001b[0m\u001b[0mcounter\u001b[0m\u001b[1;33m.\u001b[0m\u001b[0m__secretCount\u001b[0m\u001b[1;33m)\u001b[0m\u001b[1;33m\u001b[0m\u001b[0m\n\u001b[0m\u001b[0;32m     12\u001b[0m \u001b[1;31m#When the above code is executed, it produces the following result:\u001b[0m\u001b[1;33m\u001b[0m\u001b[1;33m\u001b[0m\u001b[0m\n",
      "\u001b[1;31mAttributeError\u001b[0m: 'JustCounter' object has no attribute '__secretCount'"
     ]
    }
   ],
   "source": [
    "#!/usr/bin/python\n",
    "class JustCounter:\n",
    "    __secretCount = 0\n",
    "\n",
    "    def count(self):\n",
    "        self.__secretCount += 1\n",
    "        print(self.__secretCount)\n",
    "counter = JustCounter()\n",
    "counter.count()\n",
    "counter.count()\n",
    "print(counter.__secretCount)\n",
    "#When the above code is executed, it produces the following result:"
   ]
  },
  {
   "cell_type": "code",
   "execution_count": 38,
   "metadata": {},
   "outputs": [
    {
     "name": "stdout",
     "output_type": "stream",
     "text": [
      "2\n"
     ]
    }
   ],
   "source": [
    "print(counter._JustCounter__secretCount)"
   ]
  },
  {
   "cell_type": "code",
   "execution_count": null,
   "metadata": {
    "collapsed": true
   },
   "outputs": [],
   "source": []
  }
 ],
 "metadata": {
  "kernelspec": {
   "display_name": "Python 3",
   "language": "python",
   "name": "python3"
  },
  "language_info": {
   "codemirror_mode": {
    "name": "ipython",
    "version": 3
   },
   "file_extension": ".py",
   "mimetype": "text/x-python",
   "name": "python",
   "nbconvert_exporter": "python",
   "pygments_lexer": "ipython3",
   "version": "3.6.3"
  }
 },
 "nbformat": 4,
 "nbformat_minor": 2
}
