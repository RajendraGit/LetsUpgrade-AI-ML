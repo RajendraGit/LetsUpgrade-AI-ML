{
 "cells": [
  {
   "cell_type": "markdown",
   "metadata": {},
   "source": [
    "## Question 1 :\n",
    "### Research on whether addition, subtraction, multiplication, division, floor division, and modulo operations be performed on complex numbers. Based on your study, implement a Python program to demonstrate these operations.\n",
    "### Solution :-"
   ]
  },
  {
   "cell_type": "code",
   "execution_count": 12,
   "metadata": {},
   "outputs": [
    {
     "name": "stdout",
     "output_type": "stream",
     "text": [
      "(50+60j)+(5+6j)=(55+66j) \n",
      "(50+60j)-(5+6j)=(45+54j) \n",
      "(50+60j)*(5+6j)=(-110+600j) \n",
      "(50+60j)/(5+6j)=(10+0j) \n",
      "can't take mod of complex numbers.\n",
      "can't take floor of complex number.\n"
     ]
    }
   ],
   "source": [
    "a = 50+60j\n",
    "b = 5+6j\n",
    "\n",
    "add = a+b\n",
    "sub = a-b\n",
    "mul = a*b\n",
    "div = a/b\n",
    "print(f\"{a}+{b}={add} \\n{a}-{b}={sub} \\n{a}*{b}={mul} \\n{a}/{b}={div} \")\n",
    "try:\n",
    "    mod = a%b\n",
    "except :\n",
    "    print(\"can't take mod of complex numbers.\")\n",
    "try:\n",
    "    fd = a//b\n",
    "except :\n",
    "    print(\"can't take floor of complex number.\")"
   ]
  },
  {
   "cell_type": "markdown",
   "metadata": {},
   "source": [
    "\n",
    "## Question 2 :\n",
    "### Research on range() functions and its parameters. Create a markdown cell and write in your own words (no copy-paste from google please) what you understand about it. Implement a small program of your choice on the same.\n",
    "### Solution :-\n"
   ]
  },
  {
   "cell_type": "markdown",
   "metadata": {},
   "source": [
    "### Range is used for generating series of interger with specific start, stop, and step size. It is mostly used with for loop for the iteration purpose.\n",
    "\n",
    "### range(stop)  -> range object --> stop is a integer value e.g. 1 or 5 or 6\n",
    " range(5) -> it will generate a series of integer default starting from zero with default step size 1 and stops before 5\n",
    "              -> it has default values like range(0,5,1)\n",
    " 0, 0+1=1, 1+1=2, 2+1=3, 3+1=4 < 5 --> starts for 0 then previous value + step size and stops before stop value.\n",
    "\n",
    "### range(start,stop) - > it will take defaul step size as 1 \n",
    "range(1,5) ->it will generate a series of integer default starting from zero with default step size 1 and stops before 5\n",
    "              -> it has default values like range(1,5,1)\n",
    " 1, 1+1=2, 2+1=3, 3+1=4 < 5 --> starts for start value 1 then previous value + step size and stops before stop value.\n",
    " \n",
    "### range(start, stop[, step]) -> range object\n",
    " range(4,21,4) will generate a series of integer starting from 4 with increment/decrement by step size 4 and stops before 21\n",
    " 4, 4+4=8, 8+4=12, 12+4=16, 16+4=20 > 21 \n",
    "\n",
    "### class range also have two functions :\n",
    "\n",
    "###  1. count(...)\n",
    " rangeobject.count(value) -> integer -- return number of occurrences of value\n",
    " a3 = [1,2,3,1,4]\n",
    " a.count(1) --> it will count of 1 present in list == 2\n",
    "\n",
    "###    2. index(...)\n",
    "rangeobject.index(value, [start, [stop]]) -> integer -- return index of value.\n",
    "\n",
    "a = [1,2,3,1,1,4]\n",
    "a.index(3) --> if we pass value like this it will consider whole list and give index of 3 \n",
    "index = 2\n",
    "\n",
    "a.index[1,1,5] --> Now it will start finding for 1 from starting point 1 and stops before 4\n",
    "index = 3   --> it will return index of the first value \n",
    "\n",
    "a.index[1,1,3]  --> it will raise ValueError\n",
    "Raise ValueError because value is not present in between 1 to 2."
   ]
  },
  {
   "cell_type": "code",
   "execution_count": 48,
   "metadata": {},
   "outputs": [
    {
     "name": "stdout",
     "output_type": "stream",
     "text": [
      "0 1 2 3 4 \n",
      "\n",
      "1 2 3 4 \n",
      "\n",
      "4 8 12 16 20 \n",
      "\n",
      "Index of 3 = 2 \n",
      "Index of 1= 3\n",
      "5 is not in list\n"
     ]
    }
   ],
   "source": [
    "for i in range(5): \n",
    "    print(i, end = \" \")\n",
    "print(\"\\n\")\n",
    "\n",
    "for i in range(1,5): \n",
    "    print(i, end = \" \")\n",
    "print(\"\\n\")\n",
    "    \n",
    "for i in range(4,21,4): \n",
    "    print(i, end = \" \")\n",
    "print(\"\\n\")\n",
    "    \n",
    "a3 = [1,2,3,1,1,4]\n",
    "i1 = a3.index(3)\n",
    "i2 = a3.index(1,1,5)\n",
    "print(f\"Index of 3 = {i1} \\nIndex of 1= {i2}\")\n",
    "try:\n",
    "    i3 = a3.index(1,1,3) \n",
    "except:\n",
    "    print(\"5 is not in list\")"
   ]
  },
  {
   "cell_type": "markdown",
   "metadata": {},
   "source": [
    "## Question 3:\n",
    "### Consider two numbers. Perform their subtraction and if the result of subtraction is greater than 25, print their multiplication result else print their division result.\n",
    "### Solution :-"
   ]
  },
  {
   "cell_type": "code",
   "execution_count": 36,
   "metadata": {},
   "outputs": [
    {
     "name": "stdout",
     "output_type": "stream",
     "text": [
      "Enter 1st Number = 100\n",
      "Enter 2nd Number = 80\n",
      "1.25\n"
     ]
    }
   ],
   "source": [
    "a = int(input(\"Enter 1st Number = \"))\n",
    "b = int(input(\"Enter 2nd Number = \"))\n",
    "if a-b >25 :\n",
    "    print(a*b)\n",
    "else:\n",
    "    print(a/b)"
   ]
  },
  {
   "cell_type": "markdown",
   "metadata": {},
   "source": [
    "## Question 4:\n",
    "### Consider a list of 10 elements of integer values. If the number in the list is divisible by 2, print the result as \"square of that number minus 2\".\n",
    "### Solution :-"
   ]
  },
  {
   "cell_type": "code",
   "execution_count": 42,
   "metadata": {},
   "outputs": [
    {
     "name": "stdout",
     "output_type": "stream",
     "text": [
      "2 2\n",
      "4 14\n",
      "6 34\n",
      "8 62\n",
      "10 98\n"
     ]
    }
   ],
   "source": [
    "a = [i for i in range(1,11)]\n",
    "for i in a :\n",
    "       if i%2==0:\n",
    "           print(i,i**2-2) "
   ]
  },
  {
   "cell_type": "markdown",
   "metadata": {},
   "source": [
    "\n",
    "## Question 5:\n",
    "### Consider a list of 10 elements. Print all the elements in the list which are greater than 7 when that number is divided 2.\n",
    "### Solution :-"
   ]
  },
  {
   "cell_type": "code",
   "execution_count": 47,
   "metadata": {},
   "outputs": [
    {
     "name": "stdout",
     "output_type": "stream",
     "text": [
      "16\n",
      "18\n",
      "20\n"
     ]
    }
   ],
   "source": [
    "a = [i for i in range(0,21,2)]\n",
    "for i in a :\n",
    "       if i/2 > 7:\n",
    "           print(i) "
   ]
  },
  {
   "cell_type": "code",
   "execution_count": null,
   "metadata": {
    "collapsed": true
   },
   "outputs": [],
   "source": []
  }
 ],
 "metadata": {
  "kernelspec": {
   "display_name": "Python 3",
   "language": "python",
   "name": "python3"
  },
  "language_info": {
   "codemirror_mode": {
    "name": "ipython",
    "version": 3
   },
   "file_extension": ".py",
   "mimetype": "text/x-python",
   "name": "python",
   "nbconvert_exporter": "python",
   "pygments_lexer": "ipython3",
   "version": "3.6.3"
  }
 },
 "nbformat": 4,
 "nbformat_minor": 2
}
