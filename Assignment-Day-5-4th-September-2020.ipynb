{
 "cells": [
  {
   "cell_type": "markdown",
   "metadata": {},
   "source": [
    "## Question 1 :\n",
    "### Write a Python program to find the first 20 non-even prime natural numbers.\n",
    "### Solution :-"
   ]
  },
  {
   "cell_type": "code",
   "execution_count": 17,
   "metadata": {},
   "outputs": [
    {
     "name": "stdout",
     "output_type": "stream",
     "text": [
      "1 3\n",
      "2 5\n",
      "3 7\n",
      "4 11\n",
      "5 13\n",
      "6 17\n",
      "7 19\n",
      "8 23\n",
      "9 29\n",
      "10 31\n",
      "11 37\n",
      "12 41\n",
      "13 43\n",
      "14 47\n",
      "15 53\n",
      "16 59\n",
      "17 61\n",
      "18 67\n",
      "19 71\n",
      "20 73\n"
     ]
    }
   ],
   "source": [
    "c = 0\n",
    "f = 0\n",
    "for i in range(2,100):\n",
    "    if c == 20:\n",
    "        break\n",
    "    f = 0\n",
    "    for j in range(2,i):\n",
    "            if i%j == 0 :\n",
    "                f = 1\n",
    "    if f != 1 :\n",
    "        if i%2 != 0:\n",
    "            c = c+1\n",
    "            print(c,i)"
   ]
  },
  {
   "cell_type": "markdown",
   "metadata": {},
   "source": [
    "## Question 2 :\n",
    "### Write a Python program to implement 15 functions of string.\n",
    "### Solution :-"
   ]
  },
  {
   "cell_type": "code",
   "execution_count": 72,
   "metadata": {},
   "outputs": [
    {
     "name": "stdout",
     "output_type": "stream",
     "text": [
      "1. capitalize()\t Hi how are you\n",
      "2. casefold()\t hi how are you\n",
      "3. center()\t ---hi how are You---\n",
      "4. count()\t 2\n",
      "5. endswith()\t True\n",
      "6. find()\t 13\n",
      "7. index()\t 13\n",
      "8. isalnum()\t True\n",
      "9. isalpha()\t True\n",
      "10. split()\t ['hi', 'how', 'are', 'You']\n",
      "11. upper()\t HI HOW ARE YOU\n",
      "12. isupper()\t True\n",
      "13. lower()\t rajendra\n",
      "14. islower()\t True\n",
      "15. title()\t Hi How Are You\n",
      "16. replace()\t Hi Rajendr how are You\n",
      "17. join()\t Hey How Are You\n"
     ]
    }
   ],
   "source": [
    "string = \"hi how are You\"\n",
    "a = [\"Hey\", \"How\", \"Are\", \"You\"]\n",
    "string1 = \"RAJENDRA\"\n",
    "string2 = string1.lower()\n",
    "print(\"1. capitalize()\\t\", string.capitalize())\n",
    "print(\"2. casefold()\\t\", string.casefold())\n",
    "print(\"3. center()\\t\", string.center(20,'-'))\n",
    "print(\"4. count()\\t\", string.count('h'))\n",
    "print(\"5. endswith()\\t\", string.endswith(\"u\"))\n",
    "print(\"6. find()\\t\", string.find(\"u\"))\n",
    "print(\"7. index()\\t\", string.index(\"u\"))\n",
    "print(\"8. isalnum()\\t\", string1.isalnum())\n",
    "print(\"9. isalpha()\\t\", string1.isalpha())\n",
    "print(\"10. split()\\t\",string.split())\n",
    "print(\"11. upper()\\t\",string.upper())\n",
    "print(\"12. isupper()\\t\",string1.isupper())\n",
    "print(\"13. lower()\\t\",string1.lower())\n",
    "print(\"14. islower()\\t\",string2.islower())\n",
    "print(\"15. title()\\t\",string.title())\n",
    "print(\"16. replace()\\t\",string.replace(\"hi\",\"Hi Rajendr\"))\n",
    "print(\"17. join()\\t\",\" \".join(a))\n"
   ]
  },
  {
   "cell_type": "markdown",
   "metadata": {},
   "source": [
    "## Question 3:\n",
    "### Write a Python program to check if the given string is a Palindrome or Anagram or None of them. Display the message accordingly to the user.\n",
    "### Solution :-"
   ]
  },
  {
   "cell_type": "code",
   "execution_count": 71,
   "metadata": {},
   "outputs": [
    {
     "name": "stdout",
     "output_type": "stream",
     "text": [
      "Enter your 1st string = what\n",
      "Enter your 2nd string = how\n",
      "None of them\n"
     ]
    }
   ],
   "source": [
    "s1 = input(\"Enter your 1st string = \").lower()\n",
    "s2 = input(\"Enter your 2nd string = \").lower()\n",
    "def isPalindrome(s):\n",
    "    return s == s[::-1]\n",
    "if isPalindrome(s1) or sorted(s1) == sorted(s2):\n",
    "    if isPalindrome(s1):\n",
    "        print(\"Palindrome\")\n",
    "\n",
    "    if sorted(s1) == sorted(s2):\n",
    "        print(\"Anagram\")\n",
    "else:\n",
    "    print(\"None of them\")"
   ]
  },
  {
   "cell_type": "markdown",
   "metadata": {},
   "source": [
    "## Question 4:\n",
    "### Write a Python's user-defined function that removes all the additional characters from the string and convert it finally to lower case using built-in lower(). eg: If the string is \"Dr. Darshan Ingle @AIML Trainer\", then the output be \"drdarshaningleaimltrainer\".\n",
    "### Solution :-"
   ]
  },
  {
   "cell_type": "code",
   "execution_count": 9,
   "metadata": {},
   "outputs": [
    {
     "name": "stdout",
     "output_type": "stream",
     "text": [
      "drdarshaningleaimltrainer\n"
     ]
    }
   ],
   "source": [
    "a= \"Dr. Darshan Ingle @AIML Trainer\"\n",
    "def charRemover(string):\n",
    "    char = ['!', '~', '@', '#', '$', '%','.',\" \"]\n",
    "    for i in char:\n",
    "        string = string.replace(i,'')\n",
    "    s1 = (string.lower())\n",
    "    print(s1)\n",
    "charRemover(a)\n"
   ]
  },
  {
   "cell_type": "code",
   "execution_count": null,
   "metadata": {
    "collapsed": true
   },
   "outputs": [],
   "source": []
  }
 ],
 "metadata": {
  "kernelspec": {
   "display_name": "Python 3",
   "language": "python",
   "name": "python3"
  },
  "language_info": {
   "codemirror_mode": {
    "name": "ipython",
    "version": 3
   },
   "file_extension": ".py",
   "mimetype": "text/x-python",
   "name": "python",
   "nbconvert_exporter": "python",
   "pygments_lexer": "ipython3",
   "version": "3.6.3"
  }
 },
 "nbformat": 4,
 "nbformat_minor": 2
}
