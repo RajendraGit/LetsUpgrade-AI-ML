{
 "cells": [
  {
   "cell_type": "markdown",
   "metadata": {
    "collapsed": true
   },
   "source": [
    "## Question 1:\n",
    "### Create an element-wise comparison (greater, greater_equal, less and less_equal) of two given arrays\n",
    "### Solution:"
   ]
  },
  {
   "cell_type": "code",
   "execution_count": 12,
   "metadata": {},
   "outputs": [
    {
     "name": "stdout",
     "output_type": "stream",
     "text": [
      "l1>l2 =  [False False False False False] l1>=l2 =  [False False  True False False] \n",
      " l1<l2 =  [ True  True False  True  True] l1<=l2 =  [ True  True  True  True  True]\n"
     ]
    }
   ],
   "source": [
    "import numpy as np\n",
    "l1 =np.array([1,2,3,4,5])\n",
    "l2 =np.array([2,3,3,5,6])\n",
    "print(\"l1>l2 = \", l1>l2, \"l1>=l2 = \", l1>=l2, \"\\n\", \"l1<l2 = \", l1<l2, \"l1<=l2 = \",l1<=l2)"
   ]
  },
  {
   "cell_type": "markdown",
   "metadata": {
    "collapsed": true
   },
   "source": [
    "## Question 2:\n",
    "### Write a NumPy program to create an array of 10 zeros,10 ones, 10 fives\n",
    "### Solution:"
   ]
  },
  {
   "cell_type": "code",
   "execution_count": 24,
   "metadata": {},
   "outputs": [
    {
     "name": "stdout",
     "output_type": "stream",
     "text": [
      "[0. 0. 0. 0. 0. 0. 0. 0. 0. 0.]\n",
      "[1. 1. 1. 1. 1. 1. 1. 1. 1. 1.]\n",
      "[5 5 5 5 5 5 5 5 5 5]\n"
     ]
    }
   ],
   "source": [
    "zeros = np.zeros([10])\n",
    "print(zeros)\n",
    "ones = np.ones([10])\n",
    "print(ones)\n",
    "fives = np.full([10],5)\n",
    "print(fives)"
   ]
  },
  {
   "cell_type": "markdown",
   "metadata": {
    "collapsed": true
   },
   "source": [
    "## Question 3:\n",
    "### Write a NumPy program to compute sum of all elements, sum of each column and sum of each row of a given array\n",
    "### Solution:"
   ]
  },
  {
   "cell_type": "code",
   "execution_count": 38,
   "metadata": {},
   "outputs": [
    {
     "name": "stdout",
     "output_type": "stream",
     "text": [
      "100\n",
      "[25 25 25 25]\n",
      "[20 20 20 20 20]\n"
     ]
    }
   ],
   "source": [
    "f = np.full([5,4],5)\n",
    "print(np.sum(f))\n",
    "print(f.sum(axis = 0))\n",
    "print(f.sum(axis = 1))"
   ]
  },
  {
   "cell_type": "markdown",
   "metadata": {
    "collapsed": true
   },
   "source": [
    "## Question 4:\n",
    "### Write a NumPy program to add, subtract, multiply, divide arguments element-wise.\n",
    "### Solution:"
   ]
  },
  {
   "cell_type": "code",
   "execution_count": 51,
   "metadata": {},
   "outputs": [
    {
     "name": "stdout",
     "output_type": "stream",
     "text": [
      "[6. 6. 6. 6. 6. 6. 6. 6. 6. 6.]\n",
      "[4. 4. 4. 4. 4. 4. 4. 4. 4. 4.]\n",
      "[30. 30. 30. 30. 30. 30. 30. 30. 30. 30.]\n",
      "[6. 6. 6. 6. 6. 6. 6. 6. 6. 6.]\n"
     ]
    }
   ],
   "source": [
    "add = np.add(fives,ones)\n",
    "print(add)\n",
    "sub =np.subtract(fives,ones)\n",
    "print(sub)\n",
    "mul = np.multiply(fives,add)\n",
    "print(mul)\n",
    "div = np.divide(mul,fives)\n",
    "print(div)"
   ]
  },
  {
   "cell_type": "markdown",
   "metadata": {
    "collapsed": true
   },
   "source": [
    "## Question 5:\n",
    "### Write a NumPy program to compute the trigonometric sine, cosine and tangent array of angles given in degree.\n",
    "### Solution:"
   ]
  },
  {
   "cell_type": "code",
   "execution_count": 59,
   "metadata": {},
   "outputs": [
    {
     "name": "stdout",
     "output_type": "stream",
     "text": [
      "sin =  [ 0.00000000e+00  5.00000000e-01  7.07106781e-01  8.66025404e-01\n",
      "  1.00000000e+00  8.66025404e-01  7.07106781e-01  5.00000000e-01\n",
      "  1.22464680e-16 -5.00000000e-01 -7.07106781e-01 -8.66025404e-01\n",
      " -1.00000000e+00 -8.66025404e-01 -7.07106781e-01 -5.00000000e-01\n",
      " -2.44929360e-16] \n",
      "cos =  [ 1.00000000e+00  8.66025404e-01  7.07106781e-01  5.00000000e-01\n",
      "  6.12323400e-17 -5.00000000e-01 -7.07106781e-01 -8.66025404e-01\n",
      " -1.00000000e+00 -8.66025404e-01 -7.07106781e-01 -5.00000000e-01\n",
      " -1.83697020e-16  5.00000000e-01  7.07106781e-01  8.66025404e-01\n",
      "  1.00000000e+00] \n",
      "tan =  [ 1.00000000e+00  8.66025404e-01  7.07106781e-01  5.00000000e-01\n",
      "  6.12323400e-17 -5.00000000e-01 -7.07106781e-01 -8.66025404e-01\n",
      " -1.00000000e+00 -8.66025404e-01 -7.07106781e-01 -5.00000000e-01\n",
      " -1.83697020e-16  5.00000000e-01  7.07106781e-01  8.66025404e-01\n",
      "  1.00000000e+00]\n"
     ]
    }
   ],
   "source": [
    "degree = np.array([0, 30, 45, 60, 90, 120, 135, 150, 180, 210, 225, 240, 270, 300, 315, 330, 360])\n",
    "sin = np.sin(degree*(np.pi/180))\n",
    "cos = np.cos(degree*(np.pi/180))\n",
    "tan = np.tan(degree*(np.pi/180))\n",
    "print(\"sin = \", sin,\"\\ncos = \", cos, \"\\ntan = \", cos)\n"
   ]
  },
  {
   "cell_type": "code",
   "execution_count": 69,
   "metadata": {},
   "outputs": [
    {
     "data": {
      "image/png": "[encoded data removed]",
      "text/plain": [
       "<Figure size 432x288 with 1 Axes>"
      ]
     },
     "metadata": {},
     "output_type": "display_data"
    },
    {
     "data": {
      "image/png": "[encoded data removed]",
      "text/plain": [
       "<Figure size 432x288 with 1 Axes>"
      ]
     },
     "metadata": {},
     "output_type": "display_data"
    }
   ],
   "source": [
    "import matplotlib.pylab as plt\n",
    "plt.plot(degree, sin,degree,cos)\n",
    "plt.xlabel('Angle')\n",
    "plt.ylabel('sin(angle), cos(angle)')\n",
    "plt.axis('tight')\n",
    "plt.show()\n",
    "\n",
    "plt.plot(degree, tan)\n",
    "plt.xlabel('Angle')\n",
    "plt.ylabel('tan(angle)')\n",
    "plt.axis('tight')\n",
    "plt.show()"
   ]
  },
  {
   "cell_type": "code",
   "execution_count": null,
   "metadata": {
    "collapsed": true
   },
   "outputs": [],
   "source": []
  }
 ],
 "metadata": {
  "kernelspec": {
   "display_name": "Python 3",
   "language": "python",
   "name": "python3"
  },
  "language_info": {
   "codemirror_mode": {
    "name": "ipython",
    "version": 3
   },
   "file_extension": ".py",
   "mimetype": "text/x-python",
   "name": "python",
   "nbconvert_exporter": "python",
   "pygments_lexer": "ipython3",
   "version": "3.6.3"
  }
 },
 "nbformat": 4,
 "nbformat_minor": 2
}
